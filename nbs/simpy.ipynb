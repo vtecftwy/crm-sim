{
 "cells": [
  {
   "cell_type": "markdown",
   "id": "2f784112",
   "metadata": {},
   "source": [
    "# First steps with `SimPy`"
   ]
  },
  {
   "cell_type": "code",
   "execution_count": 25,
   "id": "ada4b29d",
   "metadata": {},
   "outputs": [],
   "source": [
    "import simpy"
   ]
  },
  {
   "cell_type": "markdown",
   "id": "ad6abaaf",
   "metadata": {},
   "source": [
    "Basic concepts [(doc)](https://simpy.readthedocs.io/en/latest/simpy_intro/basic_concepts.html)"
   ]
  },
  {
   "cell_type": "code",
   "execution_count": 26,
   "id": "468d9df4",
   "metadata": {},
   "outputs": [],
   "source": [
    "def car(env):\n",
    "    while True:\n",
    "        print(f\"Start parking at {env.now}\")\n",
    "        parking_duration = 5\n",
    "        yield env.timeout(parking_duration)\n",
    "\n",
    "        print(f\"Finished parking at {env.now}\")\n",
    "        driving_duration = 3\n",
    "        yield env.timeout(driving_duration)"
   ]
  },
  {
   "cell_type": "code",
   "execution_count": 27,
   "id": "bed1da79",
   "metadata": {},
   "outputs": [
    {
     "name": "stdout",
     "output_type": "stream",
     "text": [
      "Start parking at 0\n",
      "Finished parking at 5\n",
      "Start parking at 8\n",
      "Finished parking at 13\n"
     ]
    }
   ],
   "source": [
    "env = simpy.Environment()\n",
    "process = env.process(car(env))\n",
    "env.run(until=15)"
   ]
  },
  {
   "cell_type": "markdown",
   "id": "8aa0bb07",
   "metadata": {},
   "source": [
    "Process Interaction [(doc)](https://simpy.readthedocs.io/en/latest/simpy_intro/process_interaction.html)"
   ]
  },
  {
   "cell_type": "code",
   "execution_count": 9,
   "id": "0d95c552",
   "metadata": {},
   "outputs": [],
   "source": [
    "class Car(object):\n",
    "    def __init__(self, env):\n",
    "        self.env = env\n",
    "        # Start the run process everytime an instance is created.\n",
    "        self.action = env.process(self.run())\n",
    "\n",
    "    def run(self):\n",
    "        while True:\n",
    "            print('Start parking and charging at %d' % self.env.now)\n",
    "            charge_duration = 5\n",
    "            # We yield the process that process() returns\n",
    "            # to wait for it to finish\n",
    "            yield self.env.process(self.charge(charge_duration))\n",
    "\n",
    "            # The charge process has finished and\n",
    "            # we can start driving again.\n",
    "            print('Start driving at %d' % self.env.now)\n",
    "            trip_duration = 2\n",
    "            yield self.env.timeout(trip_duration)\n",
    "\n",
    "    def charge(self, duration):\n",
    "        yield self.env.timeout(duration)"
   ]
  },
  {
   "cell_type": "code",
   "execution_count": 28,
   "id": "c80e25c1",
   "metadata": {},
   "outputs": [
    {
     "name": "stdout",
     "output_type": "stream",
     "text": [
      "Start parking and charging at 0\n",
      "Start driving at 5\n",
      "Start parking and charging at 7\n",
      "Start driving at 12\n",
      "Start parking and charging at 14\n"
     ]
    }
   ],
   "source": [
    "env = simpy.Environment()\n",
    "car = Car(env)\n",
    "env.run(until=15)"
   ]
  },
  {
   "cell_type": "markdown",
   "id": "b323e1fe",
   "metadata": {},
   "source": [
    "Interupting"
   ]
  },
  {
   "cell_type": "code",
   "execution_count": 12,
   "id": "e429f015",
   "metadata": {},
   "outputs": [],
   "source": [
    "def driver(env, car):\n",
    "    yield env.timeout(3)\n",
    "    car.action.interrupt()\n",
    "\n",
    "class Car(object):\n",
    "    def __init__(self, env):\n",
    "        self.env = env\n",
    "        self.action = env.process(self.run())\n",
    "\n",
    "    def run(self):\n",
    "        while True:\n",
    "            print('Start parking and charging at %d' % self.env.now)\n",
    "            charge_duration = 5\n",
    "            # We may get interrupted while charging the battery\n",
    "            try:\n",
    "                yield self.env.process(self.charge(charge_duration))\n",
    "            except simpy.Interrupt:\n",
    "                # When we received an interrupt, we stop charging and\n",
    "                # switch to the \"driving\" state\n",
    "                print('Was interrupted. Hope, the battery is full enough ...')\n",
    "\n",
    "            print('Start driving at %d' % self.env.now)\n",
    "            trip_duration = 2\n",
    "            yield self.env.timeout(trip_duration)\n",
    "\n",
    "    def charge(self, duration):\n",
    "        yield self.env.timeout(duration)"
   ]
  },
  {
   "cell_type": "code",
   "execution_count": 13,
   "id": "54ae2d02",
   "metadata": {},
   "outputs": [
    {
     "name": "stdout",
     "output_type": "stream",
     "text": [
      "Start parking and charging at 0\n",
      "Was interrupted. Hope, the battery is full enough ...\n",
      "Start driving at 3\n",
      "Start parking and charging at 5\n",
      "Start driving at 10\n",
      "Start parking and charging at 12\n"
     ]
    }
   ],
   "source": [
    "env = simpy.Environment()\n",
    "car = Car(env)\n",
    "env.process(driver(env, car))\n",
    "env.run(until=15)"
   ]
  },
  {
   "cell_type": "markdown",
   "id": "c1266c1b",
   "metadata": {},
   "source": [
    "Share Resources [(doc)](https://simpy.readthedocs.io/en/latest/simpy_intro/shared_resources.html)"
   ]
  },
  {
   "cell_type": "code",
   "execution_count": 21,
   "id": "2ac8a892",
   "metadata": {},
   "outputs": [],
   "source": [
    "def car(env, name, bcs, driving_time, charge_duration):\n",
    "    # Simulate driving to the BCS\n",
    "    yield env.timeout(driving_time)\n",
    "\n",
    "    # Request one of its charging spots\n",
    "    print(f'{name} arriving at {env.now}')\n",
    "    with bcs.request() as req:\n",
    "        yield req\n",
    "\n",
    "        # Charge the battery\n",
    "        print(f'{name} starting to charge at {env.now}')\n",
    "        yield env.timeout(charge_duration)\n",
    "        print(f'{name} leaving the bcs at {env.now}')"
   ]
  },
  {
   "cell_type": "code",
   "execution_count": 22,
   "id": "21cecb10",
   "metadata": {},
   "outputs": [],
   "source": [
    "env = simpy.Environment()\n",
    "bcs = simpy.Resource(env, capacity=2)"
   ]
  },
  {
   "cell_type": "code",
   "execution_count": 23,
   "id": "edd8e7c5",
   "metadata": {},
   "outputs": [
    {
     "name": "stdout",
     "output_type": "stream",
     "text": [
      "Car 0 arriving at 0\n",
      "Car 0 starting to charge at 0\n",
      "Car 1 arriving at 2\n",
      "Car 1 starting to charge at 2\n",
      "Car 2 arriving at 4\n",
      "Car 0 leaving the bcs at 5\n",
      "Car 2 starting to charge at 5\n",
      "Car 3 arriving at 6\n",
      "Car 1 leaving the bcs at 7\n",
      "Car 3 starting to charge at 7\n",
      "Car 2 leaving the bcs at 10\n",
      "Car 3 leaving the bcs at 12\n"
     ]
    }
   ],
   "source": [
    "for i in range(4):\n",
    "    env.process(car(env, 'Car %d' % i, bcs, i*2, 5))\n",
    "\n",
    "\n",
    "env.run()"
   ]
  },
  {
   "cell_type": "code",
   "execution_count": null,
   "id": "d3f37398",
   "metadata": {},
   "outputs": [],
   "source": []
  },
  {
   "cell_type": "code",
   "execution_count": null,
   "id": "28338a41",
   "metadata": {},
   "outputs": [],
   "source": []
  },
  {
   "cell_type": "code",
   "execution_count": 70,
   "id": "555bab74",
   "metadata": {},
   "outputs": [],
   "source": [
    "def my_proc(n):\n",
    "    for i in range(n):\n",
    "        yield i\n",
    "    return \"DONE !!!!!!!!!!!!!!!\"\n",
    "\n",
    "g = my_proc(3)"
   ]
  },
  {
   "cell_type": "code",
   "execution_count": 74,
   "id": "b36d5813",
   "metadata": {},
   "outputs": [
    {
     "name": "stdout",
     "output_type": "stream",
     "text": [
      "['__cause__', '__class__', '__context__', '__delattr__', '__dict__', '__dir__', '__doc__', '__eq__', '__format__', '__ge__', '__getattribute__', '__gt__', '__hash__', '__init__', '__init_subclass__', '__le__', '__lt__', '__ne__', '__new__', '__reduce__', '__reduce_ex__', '__repr__', '__setattr__', '__setstate__', '__sizeof__', '__str__', '__subclasshook__', '__suppress_context__', '__traceback__', 'args', 'value', 'with_traceback']\n",
      "args: ('DONE !!!!!!!!!!!!!!!',)\n",
      "value: DONE !!!!!!!!!!!!!!!\n",
      "with_traceback: <built-in method with_traceback of StopIteration object at 0x7f9e436a28c0>\n"
     ]
    },
    {
     "data": {
      "text/plain": [
       "StopIteration('DONE !!!!!!!!!!!!!!!')"
      ]
     },
     "metadata": {},
     "output_type": "display_data"
    }
   ],
   "source": [
    "try:\n",
    "    print(next(g))\n",
    "except StopIteration as e:\n",
    "    print(dir(e))\n",
    "    for a in dir(e):\n",
    "        if not a.startswith('__'):\n",
    "            print(f\"{a}: {getattr(e, a)}\")\n",
    "    display(e)"
   ]
  },
  {
   "cell_type": "code",
   "execution_count": null,
   "id": "683c7940",
   "metadata": {},
   "outputs": [],
   "source": []
  }
 ],
 "metadata": {
  "kernelspec": {
   "display_name": "crmsim",
   "language": "python",
   "name": "python3"
  },
  "language_info": {
   "codemirror_mode": {
    "name": "ipython",
    "version": 3
   },
   "file_extension": ".py",
   "mimetype": "text/x-python",
   "name": "python",
   "nbconvert_exporter": "python",
   "pygments_lexer": "ipython3",
   "version": "3.10.6"
  }
 },
 "nbformat": 4,
 "nbformat_minor": 5
}
