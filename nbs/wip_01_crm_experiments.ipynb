{
 "cells": [
  {
   "cell_type": "markdown",
   "id": "d3633a9e",
   "metadata": {},
   "source": [
    "# Experiments for CRM Simulation"
   ]
  },
  {
   "cell_type": "code",
   "execution_count": null,
   "id": "c6e5a33a",
   "metadata": {},
   "outputs": [],
   "source": []
  },
  {
   "cell_type": "code",
   "execution_count": null,
   "id": "a4ad09c5",
   "metadata": {},
   "outputs": [],
   "source": [
    "class CRM:\n",
    "    \n",
    "    LEAD_FROM_WEBVISIT = (0.022 + 0.043) / 2 # 2.2% and 4.3%\n",
    "    LEAD_FROM_WEBVISIT_2_MQL = 0.15  # 15% of leads from web visits become MQL\n",
    "\n",
    "    CTA_TARGETS = 1_000\n",
    "    LEAD_FROM_CTA = 0.1                   # 5% to 15%\n",
    "    LEAD_FROM_CTA_2_MQL = 0.20            # 20% of leads from CTA become MQL\n",
    "\n",
    "    LEAD_FROM_INDEVENT = 288  # 3 days x 8 hours x 4 staff x 3 interaction / person / hour = 288 contacts\n",
    "    LEAD_FROM_INDEVENT_2_MQL = 0.30\n",
    "    LEAD2SQL = 0.09\n",
    "\n",
    "    MQL_FROM_SALESREP = \n",
    "\n",
    "    def __init__(self):\n",
    "        self._initialize_data()\n",
    "\n",
    "    def _initialize_data(self):\n",
    "        self.nb_visits = 500 * 21 * 3\n",
    "        self.nb_campaigns = 1\n",
    "        self.nb_industrial_events = 1\n",
    "\n",
    "        self.leads_from_web = 0\n",
    "        self.leads_from_campaign = 0\n",
    "        self.leads_from_industrial_events = 0\n",
    "        self.mql = 0\n",
    "        self.sql = 0\n",
    "        self.opportunities = 0\n",
    "        self.presentations = 0\n",
    "        self.customers = 0\n",
    "\n",
    "    def update_leads(self) :  \n",
    "        self.leads_from_web = self.nb_visits * self.LEAD_FROM_WEBVISIT\n",
    "        self.leads_from_campaign = self.nb_campaigns * self.CTA_TARGETS * self.LEAD_FROM_CTA\n",
    "        self.leads_from_industrial_events = self.nb_industrial_events * self.LEAD_FROM_INDEVENT\n",
    "\n",
    "        self.mql_from_web = (self.leads_from_web * self.LEAD_FROM_WEBVISIT_2_MQL)\n",
    "        self.mql_from_campaign = (self.leads_from_campaign * self.LEAD_FROM_CTA_2_MQL)\n",
    "        self.mql_from_industrial_events = (self.leads_from_industrial_events * self.LEAD_FROM_INDEVENT_2_MQL)\n",
    "        self.mql = (self.mql_from_web + self.mql_from_campaign + self.mql_from_industrial_events)\n",
    "\n",
    "        self.sql_from_web = self.\n",
    "\n",
    "    def step(self):\n",
    "        self.update_leads()\n",
    "\n",
    "        \n"
   ]
  },
  {
   "cell_type": "code",
   "execution_count": 16,
   "id": "1d9b3d3c",
   "metadata": {},
   "outputs": [
    {
     "name": "stdout",
     "output_type": "stream",
     "text": [
      "0 0 0\n",
      "1023.75 100.0 288\n",
      "153.5625 20.0 86.39999999999999\n",
      "259.9625\n",
      "1023.75 100.0 288\n",
      "153.5625 20.0 86.39999999999999\n",
      "259.9625\n",
      "1023.75 100.0 288\n",
      "153.5625 20.0 86.39999999999999\n",
      "259.9625\n",
      "1023.75 100.0 288\n",
      "153.5625 20.0 86.39999999999999\n",
      "259.9625\n",
      "1023.75 100.0 288\n",
      "153.5625 20.0 86.39999999999999\n",
      "259.9625\n"
     ]
    }
   ],
   "source": [
    "crm = CRM()\n",
    "print(crm.leads_from_web, crm.leads_from_campaign, crm.leads_from_industrial_events)\n",
    "for i in range(5):\n",
    "    crm.step()\n",
    "    print(crm.leads_from_web, crm.leads_from_campaign, crm.leads_from_industrial_events)\n",
    "    print(crm.mql_from_web, crm.mql_from_campaign, crm.mql_from_industrial_events)\n",
    "    print(crm.mql)"
   ]
  }
 ],
 "metadata": {
  "kernelspec": {
   "display_name": "crmsim",
   "language": "python",
   "name": "python3"
  },
  "language_info": {
   "codemirror_mode": {
    "name": "ipython",
    "version": 3
   },
   "file_extension": ".py",
   "mimetype": "text/x-python",
   "name": "python",
   "nbconvert_exporter": "python",
   "pygments_lexer": "ipython3",
   "version": "3.10.6"
  }
 },
 "nbformat": 4,
 "nbformat_minor": 5
}
