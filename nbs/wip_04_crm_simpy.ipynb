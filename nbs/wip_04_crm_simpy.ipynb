{
 "cells": [
  {
   "cell_type": "markdown",
   "id": "4517f514",
   "metadata": {},
   "source": [
    "# CRM using Simpy"
   ]
  },
  {
   "cell_type": "markdown",
   "id": "a25e6af4",
   "metadata": {},
   "source": [
    "CRM system simulation using simpy. \n",
    "\n",
    "Company CRM populated with accounts (customer companies) and opportunities coming from time to time from these accounts and which can be bidded, won or lost by Company.\n",
    "\n",
    "Principles: Account \"agents\" wich will go through a set of events, namely:\n",
    "- inbound_mktg_event: account finds the contant and follows a CTA to be added into Company MQL list\n",
    "- outbount_mkt_event: account reached by Company outbound marketing actions and follows a CTA to be added into Company MQL\n",
    "- inbound_sales_event: account is identified as a sales qualified leads and converted into prospect\n",
    "- outbound_sales_event: account reached out by Company sales representative and accepts call to become a prospect\n",
    "and other similar events representing how an account moves from stage to stage through the sales funnel and sales process\n",
    "\n",
    "Each event is the result of:\n",
    "- the current phase where the account is \n",
    "- an adjustable random variable, using some paramaters (example, conversion rate for CTA, ...)"
   ]
  },
  {
   "cell_type": "markdown",
   "id": "0f6dca5f",
   "metadata": {},
   "source": []
  },
  {
   "cell_type": "code",
   "execution_count": 1,
   "id": "e96c8d7a",
   "metadata": {},
   "outputs": [
    {
     "name": "stdout",
     "output_type": "stream",
     "text": [
      "Added path: /home/vtec/projects/diyai/crm-sim/src\n",
      "Set autoreload mode\n"
     ]
    }
   ],
   "source": [
    "import random\n",
    "import simpy\n",
    "\n",
    "from eccore.ipython import nb_setup\n",
    "nb_setup()\n",
    "\n",
    "from agents import Account, account_arrival, accounts_created_before, periodic_reporter\n",
    "from agents import LEAD_CONVERSION_RATES, DELAY_RANGES\n",
    "\n",
    "from enums import AccountStage, AccountType"
   ]
  },
  {
   "cell_type": "code",
   "execution_count": 3,
   "id": "28f72db3",
   "metadata": {},
   "outputs": [
    {
     "name": "stdout",
     "output_type": "stream",
     "text": [
      "\u001b[0;31mSignature:\u001b[0m \u001b[0menv\u001b[0m\u001b[0;34m.\u001b[0m\u001b[0mtimeout\u001b[0m\u001b[0;34m(\u001b[0m\u001b[0mdelay\u001b[0m\u001b[0;34m:\u001b[0m \u001b[0;34m'SimTime'\u001b[0m\u001b[0;34m,\u001b[0m \u001b[0mvalue\u001b[0m\u001b[0;34m:\u001b[0m \u001b[0;34m'Optional[Any]'\u001b[0m \u001b[0;34m=\u001b[0m \u001b[0;32mNone\u001b[0m\u001b[0;34m)\u001b[0m\u001b[0;34m\u001b[0m\u001b[0;34m\u001b[0m\u001b[0m\n",
      "\u001b[0;31mDocstring:\u001b[0m\n",
      "A :class:`~simpy.events.Event` that gets processed after a *delay* has\n",
      "passed.\n",
      "\n",
      "This event is automatically triggered when it is created.\n",
      "\u001b[0;31mType:\u001b[0m      method"
     ]
    }
   ],
   "source": [
    "env.timeout?"
   ]
  },
  {
   "cell_type": "code",
   "execution_count": 2,
   "id": "06b48467",
   "metadata": {},
   "outputs": [
    {
     "name": "stdout",
     "output_type": "stream",
     "text": [
      "[0.00] Acct 1: Account created: Acct 1 (UID: 797aa28e-28b7-4417-aa59-f0d202b09f6f) at stage LEAD\n",
      "[0.00] Acct 2: Account created: Acct 2 (UID: 497f2c73-b8ba-4d74-8310-90279e44b3d2) at stage LEAD\n",
      "[0.00] Acct 3: Account created: Acct 3 (UID: 5521631c-f92d-40a1-8c8b-06abad86286e) at stage LEAD\n",
      "[0.00] Acct 4: Account created: Acct 4 (UID: a02b9108-7cd0-4c2e-b0cd-e2d5c9d48245) at stage LEAD\n",
      "[0.00] Acct 5: Account created: Acct 5 (UID: aa133f8e-256f-4f05-a74a-f3e2210e51cc) at stage LEAD\n",
      "[0.00] Acct 1: entering run for Acct 1, LEAD\n",
      "[0.00] Acct 1: Lead is converting to MQL via inbound marketing event\n",
      "[0.00] Acct 1: entering run for Acct 1, LEAD\n",
      "[0.00] Acct 1: Lead is converting to MQL via inbound marketing event\n",
      "[0.00] Acct 2: entering run for Acct 2, LEAD\n",
      "[0.00] Acct 2: Lead is converting to SQL via outbound sales event\n",
      "[0.00] Acct 2: entering run for Acct 2, LEAD\n",
      "[0.00] Acct 2: Lead is converting to MQL via inbound marketing event\n",
      "[0.00] Acct 3: entering run for Acct 3, LEAD\n",
      "[0.00] Acct 3: Lead is converting to SQL via inbound sales event\n",
      "[0.00] Acct 3: entering run for Acct 3, LEAD\n",
      "[0.00] Acct 3: Lead is converting to MQL via inbound marketing event\n",
      "[0.00] Acct 4: entering run for Acct 4, LEAD\n",
      "[0.00] Acct 4: Lead did not yet convert to MQL or SQL\n",
      "[0.00] Acct 4: entering run for Acct 4, LEAD\n",
      "[0.00] Acct 4: Lead is converting to MQL via inbound marketing event\n",
      "[0.00] Acct 5: entering run for Acct 5, LEAD\n",
      "[0.00] Acct 5: entering run for Acct 5, LEAD\n",
      "\n",
      "--- Report at time 1 ---\n",
      "Acct 1: LEAD (created at 0)\n",
      "Acct 2: LEAD (created at 0)\n",
      "Acct 3: LEAD (created at 0)\n",
      "Acct 4: LEAD (created at 0)\n",
      "Acct 5: LEAD (created at 0)\n",
      "-------------------------------\n",
      "\n",
      "[2.33] Acct 3: Lead converted via inbound marketing to MQL (WEBSITE_CTA)\n",
      "\n",
      "--- Report at time 3 ---\n",
      "Acct 1: LEAD (created at 0)\n",
      "Acct 2: LEAD (created at 0)\n",
      "Acct 3: MQL (created at 0)\n",
      "Acct 4: LEAD (created at 0)\n",
      "Acct 5: LEAD (created at 0)\n",
      "-------------------------------\n",
      "\n",
      "[3.14] Acct 2: Lead converted via inbound marketing to MQL (WEBSITE_CTA)\n",
      "[3.37] Acct 3: Lead converted via inbound sales to SQL (INDUSTRY_EVENT)\n",
      "[3.49] Acct 1: Lead converted via inbound marketing to MQL (WEBSITE_CTA)\n",
      "[3.85] Acct 1: Lead converted via inbound marketing to MQL (WEBSITE_CTA)\n",
      "[3.98] Acct 4: Lead converted via inbound marketing to MQL (WEBSITE_CTA)\n",
      "[4.37] Acct 5: Lead converted via outbound marketing to MQL (EMAIL_CAMPAIGN)\n",
      "[4.46] Acct 5: Lead converted via outbound marketing to MQL (EMAIL_CAMPAIGN)\n",
      "[4.76] Acct 2: Lead converted via outbound sales to MQL (SALES_REP)\n",
      "\n",
      "--- Report at time 5 ---\n",
      "Acct 1: MQL (created at 0)\n",
      "Acct 2: SQL (created at 0)\n",
      "Acct 3: SQL (created at 0)\n",
      "Acct 4: MQL (created at 0)\n",
      "Acct 5: MQL (created at 0)\n",
      "-------------------------------\n",
      "\n",
      "\n",
      "--- Report at time 7 ---\n",
      "Acct 1: MQL (created at 0)\n",
      "Acct 2: SQL (created at 0)\n",
      "Acct 3: SQL (created at 0)\n",
      "Acct 4: MQL (created at 0)\n",
      "Acct 5: MQL (created at 0)\n",
      "-------------------------------\n",
      "\n",
      "\n",
      "--- Report at time 9 ---\n",
      "Acct 1: MQL (created at 0)\n",
      "Acct 2: SQL (created at 0)\n",
      "Acct 3: SQL (created at 0)\n",
      "Acct 4: MQL (created at 0)\n",
      "Acct 5: MQL (created at 0)\n",
      "-------------------------------\n",
      "\n",
      "\n",
      "--- Report at time 11 ---\n",
      "Acct 1: MQL (created at 0)\n",
      "Acct 2: SQL (created at 0)\n",
      "Acct 3: SQL (created at 0)\n",
      "Acct 4: MQL (created at 0)\n",
      "Acct 5: MQL (created at 0)\n",
      "-------------------------------\n",
      "\n",
      "\n",
      "--- Report at time 13 ---\n",
      "Acct 1: MQL (created at 0)\n",
      "Acct 2: SQL (created at 0)\n",
      "Acct 3: SQL (created at 0)\n",
      "Acct 4: MQL (created at 0)\n",
      "Acct 5: MQL (created at 0)\n",
      "-------------------------------\n",
      "\n",
      "\n",
      "--- Report at time 15 ---\n",
      "Acct 1: MQL (created at 0)\n",
      "Acct 2: SQL (created at 0)\n",
      "Acct 3: SQL (created at 0)\n",
      "Acct 4: MQL (created at 0)\n",
      "Acct 5: MQL (created at 0)\n",
      "-------------------------------\n",
      "\n",
      "\n",
      "--- Report at time 17 ---\n",
      "Acct 1: MQL (created at 0)\n",
      "Acct 2: SQL (created at 0)\n",
      "Acct 3: SQL (created at 0)\n",
      "Acct 4: MQL (created at 0)\n",
      "Acct 5: MQL (created at 0)\n",
      "-------------------------------\n",
      "\n",
      "\n",
      "--- Report at time 19 ---\n",
      "Acct 1: MQL (created at 0)\n",
      "Acct 2: SQL (created at 0)\n",
      "Acct 3: SQL (created at 0)\n",
      "Acct 4: MQL (created at 0)\n",
      "Acct 5: MQL (created at 0)\n",
      "-------------------------------\n",
      "\n",
      "\n",
      "--- Report at time 21 ---\n",
      "Acct 1: MQL (created at 0)\n",
      "Acct 2: SQL (created at 0)\n",
      "Acct 3: SQL (created at 0)\n",
      "Acct 4: MQL (created at 0)\n",
      "Acct 5: MQL (created at 0)\n",
      "-------------------------------\n",
      "\n",
      "\n",
      "--- Report at time 23 ---\n",
      "Acct 1: MQL (created at 0)\n",
      "Acct 2: SQL (created at 0)\n",
      "Acct 3: SQL (created at 0)\n",
      "Acct 4: MQL (created at 0)\n",
      "Acct 5: MQL (created at 0)\n",
      "-------------------------------\n",
      "\n",
      "\n",
      "--- Report at time 25 ---\n",
      "Acct 1: MQL (created at 0)\n",
      "Acct 2: SQL (created at 0)\n",
      "Acct 3: SQL (created at 0)\n",
      "Acct 4: MQL (created at 0)\n",
      "Acct 5: MQL (created at 0)\n",
      "-------------------------------\n",
      "\n",
      "\n",
      "--- Report at time 27 ---\n",
      "Acct 1: MQL (created at 0)\n",
      "Acct 2: SQL (created at 0)\n",
      "Acct 3: SQL (created at 0)\n",
      "Acct 4: MQL (created at 0)\n",
      "Acct 5: MQL (created at 0)\n",
      "-------------------------------\n",
      "\n",
      "\n",
      "--- Report at time 29 ---\n",
      "Acct 1: MQL (created at 0)\n",
      "Acct 2: SQL (created at 0)\n",
      "Acct 3: SQL (created at 0)\n",
      "Acct 4: MQL (created at 0)\n",
      "Acct 5: MQL (created at 0)\n",
      "-------------------------------\n",
      "\n",
      "\n",
      "--- Report at time 31 ---\n",
      "Acct 1: MQL (created at 0)\n",
      "Acct 2: SQL (created at 0)\n",
      "Acct 3: SQL (created at 0)\n",
      "Acct 4: MQL (created at 0)\n",
      "Acct 5: MQL (created at 0)\n",
      "-------------------------------\n",
      "\n",
      "\n",
      "--- Report at time 33 ---\n",
      "Acct 1: MQL (created at 0)\n",
      "Acct 2: SQL (created at 0)\n",
      "Acct 3: SQL (created at 0)\n",
      "Acct 4: MQL (created at 0)\n",
      "Acct 5: MQL (created at 0)\n",
      "-------------------------------\n",
      "\n",
      "\n",
      "--- Report at time 35 ---\n",
      "Acct 1: MQL (created at 0)\n",
      "Acct 2: SQL (created at 0)\n",
      "Acct 3: SQL (created at 0)\n",
      "Acct 4: MQL (created at 0)\n",
      "Acct 5: MQL (created at 0)\n",
      "-------------------------------\n",
      "\n",
      "\n",
      "--- Report at time 37 ---\n",
      "Acct 1: MQL (created at 0)\n",
      "Acct 2: SQL (created at 0)\n",
      "Acct 3: SQL (created at 0)\n",
      "Acct 4: MQL (created at 0)\n",
      "Acct 5: MQL (created at 0)\n",
      "-------------------------------\n",
      "\n",
      "\n",
      "--- Report at time 39 ---\n",
      "Acct 1: MQL (created at 0)\n",
      "Acct 2: SQL (created at 0)\n",
      "Acct 3: SQL (created at 0)\n",
      "Acct 4: MQL (created at 0)\n",
      "Acct 5: MQL (created at 0)\n",
      "-------------------------------\n",
      "\n",
      "\n",
      "--- Report at time 41 ---\n",
      "Acct 1: MQL (created at 0)\n",
      "Acct 2: SQL (created at 0)\n",
      "Acct 3: SQL (created at 0)\n",
      "Acct 4: MQL (created at 0)\n",
      "Acct 5: MQL (created at 0)\n",
      "-------------------------------\n",
      "\n",
      "\n",
      "--- Report at time 43 ---\n",
      "Acct 1: MQL (created at 0)\n",
      "Acct 2: SQL (created at 0)\n",
      "Acct 3: SQL (created at 0)\n",
      "Acct 4: MQL (created at 0)\n",
      "Acct 5: MQL (created at 0)\n",
      "-------------------------------\n",
      "\n",
      "\n",
      "--- Report at time 45 ---\n",
      "Acct 1: MQL (created at 0)\n",
      "Acct 2: SQL (created at 0)\n",
      "Acct 3: SQL (created at 0)\n",
      "Acct 4: MQL (created at 0)\n",
      "Acct 5: MQL (created at 0)\n",
      "-------------------------------\n",
      "\n",
      "\n",
      "--- Report at time 47 ---\n",
      "Acct 1: MQL (created at 0)\n",
      "Acct 2: SQL (created at 0)\n",
      "Acct 3: SQL (created at 0)\n",
      "Acct 4: MQL (created at 0)\n",
      "Acct 5: MQL (created at 0)\n",
      "-------------------------------\n",
      "\n",
      "\n",
      "--- Report at time 49 ---\n",
      "Acct 1: MQL (created at 0)\n",
      "Acct 2: SQL (created at 0)\n",
      "Acct 3: SQL (created at 0)\n",
      "Acct 4: MQL (created at 0)\n",
      "Acct 5: MQL (created at 0)\n",
      "-------------------------------\n",
      "\n"
     ]
    }
   ],
   "source": [
    "random.seed(1988)\n",
    "env = simpy.Environment()\n",
    "env.accounts = []\n",
    "Account.cnt = 0\n",
    "initial_accounts = 5\n",
    "arrival_rate = 0.001  # on average, one new account every 2 units of time\n",
    "env.process(account_arrival(env, initial_accounts, arrival_rate))\n",
    "env.process(periodic_reporter(env, 2))\n",
    "env.run(until=50)"
   ]
  },
  {
   "cell_type": "code",
   "execution_count": 17,
   "id": "46fdf483",
   "metadata": {},
   "outputs": [
    {
     "data": {
      "text/plain": [
       "['Acct 1', 'Acct 2', 'Acct 3']"
      ]
     },
     "execution_count": 17,
     "metadata": {},
     "output_type": "execute_result"
    }
   ],
   "source": [
    "[a.name for a in env.accounts]"
   ]
  },
  {
   "cell_type": "code",
   "execution_count": 30,
   "id": "2399aca7",
   "metadata": {},
   "outputs": [
    {
     "data": {
      "text/plain": [
       "[<agents.Account at 0x7c105f055360>,\n",
       " <agents.Account at 0x7c105f054730>,\n",
       " <agents.Account at 0x7c105f055ae0>,\n",
       " <agents.Account at 0x7c105f0541f0>,\n",
       " <agents.Account at 0x7c105f057d30>,\n",
       " <agents.Account at 0x7c105f0560b0>,\n",
       " <agents.Account at 0x7c105f056c20>,\n",
       " <agents.Account at 0x7c105f054640>,\n",
       " <agents.Account at 0x7c105f0575b0>,\n",
       " <agents.Account at 0x7c105f056980>]"
      ]
     },
     "execution_count": 30,
     "metadata": {},
     "output_type": "execute_result"
    }
   ],
   "source": [
    "accounts_created_before(env=env, t=18)"
   ]
  },
  {
   "cell_type": "code",
   "execution_count": null,
   "id": "6de5af92",
   "metadata": {},
   "outputs": [],
   "source": []
  },
  {
   "cell_type": "code",
   "execution_count": null,
   "id": "83bcacc0",
   "metadata": {},
   "outputs": [],
   "source": []
  },
  {
   "cell_type": "code",
   "execution_count": null,
   "id": "da98be8e",
   "metadata": {},
   "outputs": [],
   "source": []
  },
  {
   "cell_type": "code",
   "execution_count": null,
   "id": "124c29e4",
   "metadata": {},
   "outputs": [],
   "source": []
  },
  {
   "cell_type": "code",
   "execution_count": null,
   "id": "82d9da0a",
   "metadata": {},
   "outputs": [],
   "source": []
  },
  {
   "cell_type": "code",
   "execution_count": null,
   "id": "eb48d108",
   "metadata": {},
   "outputs": [],
   "source": []
  },
  {
   "cell_type": "code",
   "execution_count": null,
   "id": "3e8c675b",
   "metadata": {},
   "outputs": [],
   "source": []
  },
  {
   "cell_type": "markdown",
   "id": "9e3fa0b8",
   "metadata": {},
   "source": [
    "# Sandbox"
   ]
  },
  {
   "cell_type": "markdown",
   "id": "af68943b",
   "metadata": {},
   "source": [
    "## Concept of store"
   ]
  },
  {
   "cell_type": "code",
   "execution_count": 16,
   "id": "b2a872ba",
   "metadata": {},
   "outputs": [],
   "source": [
    "class Account:\n",
    "    def __init__(self, env, name):\n",
    "        self.env = env\n",
    "        self.name = name\n",
    "        self.inbox = simpy.Store(env)\n",
    "        self.env.accounts.append(self)\n",
    "        print(f\"Created {self.name}\")\n",
    "\n",
    "    def run(self):\n",
    "        while True:\n",
    "            msg = yield self.inbox.get()\n",
    "            print(f\"{self.env.now}: Account {self.name} received {msg}\")\n",
    "\n",
    "def report(env):\n",
    "    print(f\"\\n--- Report at time {env.now} ---\")\n",
    "    for account in env.accounts:\n",
    "        print(f\"{account.name}: {account.inbox.items}\")\n",
    "    print(\"-------------------------------\\n\")\n",
    "\n",
    "# ... Account class and other functions ...\n",
    "\n",
    "def periodic_reporter(env, interval):\n",
    "    # First report at time 1\n",
    "    yield env.timeout(1)\n",
    "    report(env)\n",
    "    while True:\n",
    "        yield env.timeout(interval)\n",
    "        report(env)"
   ]
  },
  {
   "cell_type": "code",
   "execution_count": 17,
   "id": "6b410a30",
   "metadata": {},
   "outputs": [],
   "source": [
    "def agent(env, account_store):\n",
    "    yield env.timeout(5)\n",
    "    yield account_store.put(\"marketing outreach\")\n",
    "    print(f\"{env.now}: Agent sent event to account\")"
   ]
  },
  {
   "cell_type": "code",
   "execution_count": 20,
   "id": "147ffd3a",
   "metadata": {},
   "outputs": [
    {
     "name": "stdout",
     "output_type": "stream",
     "text": [
      "Created A1\n",
      "Created A2\n"
     ]
    },
    {
     "data": {
      "text/plain": [
       "<Process(periodic_reporter) object at 0x7900ed1fd870>"
      ]
     },
     "execution_count": 20,
     "metadata": {},
     "output_type": "execute_result"
    }
   ],
   "source": [
    "env = simpy.Environment()\n",
    "env.accounts = []\n",
    "account1 = Account(env, \"A1\")\n",
    "account2 = Account(env, \"A2\")\n",
    "\n",
    "env.process(account1.run())\n",
    "env.process(account2.run())\n",
    "\n",
    "env.process(periodic_reporter(env, 1))"
   ]
  },
  {
   "cell_type": "code",
   "execution_count": 21,
   "id": "6a06f6da",
   "metadata": {},
   "outputs": [
    {
     "name": "stdout",
     "output_type": "stream",
     "text": [
      "\n",
      "--- Report at time 1 ---\n",
      "A1: []\n",
      "A2: []\n",
      "-------------------------------\n",
      "\n",
      "\n",
      "--- Report at time 2 ---\n",
      "A1: []\n",
      "A2: []\n",
      "-------------------------------\n",
      "\n",
      "\n",
      "--- Report at time 3 ---\n",
      "A1: []\n",
      "A2: []\n",
      "-------------------------------\n",
      "\n",
      "\n",
      "--- Report at time 4 ---\n",
      "A1: []\n",
      "A2: []\n",
      "-------------------------------\n",
      "\n",
      "\n",
      "--- Report at time 5 ---\n",
      "A1: ['marketing outreach']\n",
      "A2: []\n",
      "-------------------------------\n",
      "\n",
      "5: Agent sent event to account\n",
      "5: Account A1 received marketing outreach\n",
      "\n",
      "--- Report at time 6 ---\n",
      "A1: []\n",
      "A2: []\n",
      "-------------------------------\n",
      "\n",
      "\n",
      "--- Report at time 7 ---\n",
      "A1: []\n",
      "A2: []\n",
      "-------------------------------\n",
      "\n",
      "\n",
      "--- Report at time 8 ---\n",
      "A1: []\n",
      "A2: []\n",
      "-------------------------------\n",
      "\n",
      "\n",
      "--- Report at time 9 ---\n",
      "A1: []\n",
      "A2: []\n",
      "-------------------------------\n",
      "\n"
     ]
    }
   ],
   "source": [
    "env.process(agent(env, account1.inbox))\n",
    "env.run(until=10)\n"
   ]
  },
  {
   "cell_type": "code",
   "execution_count": 15,
   "id": "775f7a72",
   "metadata": {},
   "outputs": [
    {
     "data": {
      "text/plain": [
       "['new message', 'another message']"
      ]
     },
     "execution_count": 15,
     "metadata": {},
     "output_type": "execute_result"
    }
   ],
   "source": [
    "account1.inbox.put(\"new message\")\n",
    "account1.inbox.put(\"another message\")\n",
    "\n",
    "account1.inbox.items"
   ]
  },
  {
   "cell_type": "code",
   "execution_count": null,
   "id": "000e4d1d",
   "metadata": {},
   "outputs": [],
   "source": []
  },
  {
   "cell_type": "code",
   "execution_count": null,
   "id": "3c289d0c",
   "metadata": {},
   "outputs": [],
   "source": []
  },
  {
   "cell_type": "code",
   "execution_count": null,
   "id": "4877fddd",
   "metadata": {},
   "outputs": [],
   "source": []
  },
  {
   "cell_type": "code",
   "execution_count": null,
   "id": "bfa2bb88",
   "metadata": {},
   "outputs": [],
   "source": []
  },
  {
   "cell_type": "code",
   "execution_count": null,
   "id": "d77a7877",
   "metadata": {},
   "outputs": [],
   "source": []
  },
  {
   "cell_type": "code",
   "execution_count": null,
   "id": "0326a3ca",
   "metadata": {},
   "outputs": [],
   "source": []
  }
 ],
 "metadata": {
  "kernelspec": {
   "display_name": "crmsim",
   "language": "python",
   "name": "python3"
  },
  "language_info": {
   "codemirror_mode": {
    "name": "ipython",
    "version": 3
   },
   "file_extension": ".py",
   "mimetype": "text/x-python",
   "name": "python",
   "nbconvert_exporter": "python",
   "pygments_lexer": "ipython3",
   "version": "3.10.15"
  }
 },
 "nbformat": 4,
 "nbformat_minor": 5
}
