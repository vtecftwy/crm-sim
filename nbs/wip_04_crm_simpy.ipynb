{
 "cells": [
  {
   "cell_type": "markdown",
   "id": "4517f514",
   "metadata": {},
   "source": [
    "# CRM using Simpy"
   ]
  },
  {
   "cell_type": "markdown",
   "id": "a25e6af4",
   "metadata": {},
   "source": [
    "CRM system simulation using simpy. \n",
    "\n",
    "Company CRM populated with accounts (customer companies) and opportunities coming from time to time from these accounts and which can be bidded, won or lost by Company.\n",
    "\n",
    "Principles: Account \"agents\" wich will go through a set of events, namely:\n",
    "- inbound_mktg_event: account finds the contant and follows a CTA to be added into Company MQL list\n",
    "- outbount_mkt_event: account reached by Company outbound marketing actions and follows a CTA to be added into Company MQL\n",
    "- inbound_sales_event: account is identified as a sales qualified leads and converted into prospect\n",
    "- outbound_sales_event: account reached out by Company sales representative and accepts call to become a prospect\n",
    "and other similar events representing how an account moves from stage to stage through the sales funnel and sales process\n",
    "\n",
    "Each event is the result of:\n",
    "- the current phase where the account is \n",
    "- an adjustable random variable, using some paramaters (example, conversion rate for CTA, ...)"
   ]
  },
  {
   "cell_type": "markdown",
   "id": "0f6dca5f",
   "metadata": {},
   "source": []
  },
  {
   "cell_type": "code",
   "execution_count": 25,
   "id": "e96c8d7a",
   "metadata": {},
   "outputs": [
    {
     "name": "stdout",
     "output_type": "stream",
     "text": [
      "The autoreload extension is already loaded. To reload it, use:\n",
      "  %reload_ext autoreload\n",
      "Set autoreload mode\n"
     ]
    }
   ],
   "source": [
    "import random\n",
    "import simpy\n",
    "\n",
    "from eccore.ipython import nb_setup\n",
    "nb_setup()\n",
    "\n",
    "from agents import Stage, Account, CONVERSION_RATES, DELAY_RANGES, account_arrival, accounts_created_before\n"
   ]
  },
  {
   "cell_type": "code",
   "execution_count": 26,
   "id": "06b48467",
   "metadata": {},
   "outputs": [
    {
     "name": "stdout",
     "output_type": "stream",
     "text": [
      "[0.00] Company_2: Did not convert from marketing\n",
      "[0.00] Company_3: Did not convert from marketing\n",
      "[0.00] Company_3: Did not convert from marketing\n",
      "[0.00] Company_5: Did not convert from marketing\n",
      "[0.00] Company_5: Did not convert from marketing\n",
      "[1.10] Company_2: Converted via inbound marketing to MQL\n",
      "[1.10] Company_2: Did not convert from sales\n",
      "[1.22] Company_4: Converted via inbound marketing to MQL\n",
      "[1.99] Company_1: Converted via inbound marketing to MQL\n",
      "[2.24] Company_1: Converted via inbound marketing to MQL\n",
      "[2.55] Company_4: Converted via outbound marketing to MQL\n",
      "[2.55] Company_4: Did not convert from sales\n",
      "[3.35] Company_6: Did not convert from marketing\n",
      "[3.35] Company_6: Did not convert from marketing\n",
      "[4.86] Company_4: Converted via outbound sales to PROSPECT\n",
      "[5.36] Company_1: Converted via outbound sales to PROSPECT\n",
      "[5.57] Company_1: Converted via outbound sales to PROSPECT\n",
      "[8.17] Company_7: Converted via inbound marketing to MQL\n",
      "[8.17] Company_7: Did not convert from sales\n",
      "[10.37] Company_8: Converted via inbound marketing to MQL\n",
      "[10.37] Company_8: Did not convert from sales\n",
      "[10.59] Company_7: Converted via outbound marketing to MQL\n",
      "[10.59] Company_7: Did not convert from sales\n",
      "[11.64] Company_8: Converted via inbound marketing to MQL\n",
      "[11.64] Company_8: Did not convert from sales\n",
      "[13.08] Company_9: Did not convert from marketing\n",
      "[13.08] Company_9: Did not convert from marketing\n",
      "[16.75] Company_10: Did not convert from marketing\n",
      "[18.66] Company_11: Did not convert from marketing\n"
     ]
    }
   ],
   "source": [
    "random.seed(1988)\n",
    "env = simpy.Environment()\n",
    "env.accounts = []\n",
    "initial_accounts = 5\n",
    "arrival_rate = 0.5  # on average, one new account every 2 units of time\n",
    "env.process(account_arrival(env, initial_accounts, arrival_rate))\n",
    "env.run(until=20)"
   ]
  },
  {
   "cell_type": "code",
   "execution_count": 30,
   "id": "2399aca7",
   "metadata": {},
   "outputs": [
    {
     "data": {
      "text/plain": [
       "[<agents.Account at 0x7c105f055360>,\n",
       " <agents.Account at 0x7c105f054730>,\n",
       " <agents.Account at 0x7c105f055ae0>,\n",
       " <agents.Account at 0x7c105f0541f0>,\n",
       " <agents.Account at 0x7c105f057d30>,\n",
       " <agents.Account at 0x7c105f0560b0>,\n",
       " <agents.Account at 0x7c105f056c20>,\n",
       " <agents.Account at 0x7c105f054640>,\n",
       " <agents.Account at 0x7c105f0575b0>,\n",
       " <agents.Account at 0x7c105f056980>]"
      ]
     },
     "execution_count": 30,
     "metadata": {},
     "output_type": "execute_result"
    }
   ],
   "source": [
    "accounts_created_before(env=env, t=18)"
   ]
  },
  {
   "cell_type": "code",
   "execution_count": null,
   "id": "0326a3ca",
   "metadata": {},
   "outputs": [],
   "source": []
  }
 ],
 "metadata": {
  "kernelspec": {
   "display_name": "crmsim",
   "language": "python",
   "name": "python3"
  },
  "language_info": {
   "codemirror_mode": {
    "name": "ipython",
    "version": 3
   },
   "file_extension": ".py",
   "mimetype": "text/x-python",
   "name": "python",
   "nbconvert_exporter": "python",
   "pygments_lexer": "ipython3",
   "version": "3.10.15"
  }
 },
 "nbformat": 4,
 "nbformat_minor": 5
}
