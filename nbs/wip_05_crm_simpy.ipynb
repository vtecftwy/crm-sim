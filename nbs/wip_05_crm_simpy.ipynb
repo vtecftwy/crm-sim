{
 "cells": [
  {
   "cell_type": "markdown",
   "id": "4517f514",
   "metadata": {},
   "source": [
    "# CRM using Simpy"
   ]
  },
  {
   "cell_type": "markdown",
   "id": "a25e6af4",
   "metadata": {},
   "source": [
    "CRM system simulation using simpy. \n",
    "\n",
    "Company CRM populated with accounts (customer companies) and opportunities coming from time to time from these accounts and which can be bidded, won or lost by Company.\n",
    "\n",
    "Principles: Account \"agents\" wich will go through a set of events, namely:\n",
    "- inbound_mktg_event: account finds the contant and follows a CTA to be added into Company MQL list\n",
    "- outbount_mkt_event: account reached by Company outbound marketing actions and follows a CTA to be added into Company MQL\n",
    "- inbound_sales_event: account is identified as a sales qualified leads and converted into prospect\n",
    "- outbound_sales_event: account reached out by Company sales representative and accepts call to become a prospect\n",
    "and other similar events representing how an account moves from stage to stage through the sales funnel and sales process\n",
    "\n",
    "Each event is the result of:\n",
    "- the current phase where the account is \n",
    "- an adjustable random variable, using some paramaters (example, conversion rate for CTA, ...)"
   ]
  },
  {
   "cell_type": "markdown",
   "id": "0f6dca5f",
   "metadata": {},
   "source": []
  },
  {
   "cell_type": "code",
   "execution_count": 23,
   "id": "e96c8d7a",
   "metadata": {},
   "outputs": [
    {
     "name": "stdout",
     "output_type": "stream",
     "text": [
      "The autoreload extension is already loaded. To reload it, use:\n",
      "  %reload_ext autoreload\n",
      "Set autoreload mode\n"
     ]
    }
   ],
   "source": [
    "import random\n",
    "import simpy\n",
    "\n",
    "from eccore.ipython import nb_setup\n",
    "nb_setup()\n",
    "\n",
    "from agents import Account, account_arrival, accounts_created_before, periodic_reporter\n",
    "from agents import LEAD_CONVERSION_RATES, DELAY_RANGES\n",
    "\n",
    "from enums import AccountStage, AccountType"
   ]
  },
  {
   "cell_type": "code",
   "execution_count": 24,
   "id": "06b48467",
   "metadata": {},
   "outputs": [
    {
     "name": "stdout",
     "output_type": "stream",
     "text": [
      "[0.00] Acct 6: Account created: Acct 6 (UID: 9bf92f00-5cbd-49d8-951b-f2cd092c5052) at stage LEAD\n",
      "[0.00] Acct 7: Account created: Acct 7 (UID: 697c6f6b-e46c-4f40-8e4a-7a72749f93b7) at stage LEAD\n",
      "[0.00] Acct 8: Account created: Acct 8 (UID: 7e1e6568-b299-4aed-9071-e25bef6aabef) at stage LEAD\n",
      "[0.00] Acct 9: Account created: Acct 9 (UID: da57811c-81da-4bee-b5ca-5356c3d1dcd2) at stage LEAD\n",
      "[0.00] Acct 10: Account created: Acct 10 (UID: 237e1134-41aa-4cfc-a1a1-54456e29e5cc) at stage LEAD\n",
      "[0.00] Acct 6: entering run for Acct 6, LEAD\n",
      "[0.00] Acct 6: Lead is converting to MQL via inbound marketing event\n",
      "[0.00] Acct 6: entering run for Acct 6, LEAD\n",
      "[0.00] Acct 6: Lead is converting to MQL via inbound marketing event\n",
      "[0.00] Acct 7: entering run for Acct 7, LEAD\n",
      "[0.00] Acct 7: Lead is converting to SQL via outbound sales event\n",
      "[0.00] Acct 7: entering run for Acct 7, LEAD\n",
      "[0.00] Acct 7: Lead is converting to MQL via inbound marketing event\n",
      "[0.00] Acct 8: entering run for Acct 8, LEAD\n",
      "[0.00] Acct 8: Lead is converting to SQL via inbound sales event\n",
      "[0.00] Acct 8: entering run for Acct 8, LEAD\n",
      "[0.00] Acct 8: Lead is converting to MQL via inbound marketing event\n",
      "[0.00] Acct 9: entering run for Acct 9, LEAD\n",
      "[0.00] Acct 9: Lead did not yet convert to MQL or SQL\n",
      "[0.00] Acct 9: entering run for Acct 9, LEAD\n",
      "[0.00] Acct 9: Lead is converting to MQL via inbound marketing event\n",
      "[0.00] Acct 10: entering run for Acct 10, LEAD\n",
      "[0.00] Acct 10: entering run for Acct 10, LEAD\n",
      "\n",
      "--- Report at time 1 ---\n",
      "Acct 6: LEAD (created at 0)\n",
      "Acct 7: LEAD (created at 0)\n",
      "Acct 8: LEAD (created at 0)\n",
      "Acct 9: LEAD (created at 0)\n",
      "Acct 10: LEAD (created at 0)\n",
      "-------------------------------\n",
      "\n",
      "[2.33] Acct 8: Lead converted via inbound marketing to MQL (WEBSITE_CTA)\n",
      "\n",
      "--- Report at time 3 ---\n",
      "Acct 6: LEAD (created at 0)\n",
      "Acct 7: LEAD (created at 0)\n",
      "Acct 8: MQL (created at 0)\n",
      "Acct 9: LEAD (created at 0)\n",
      "Acct 10: LEAD (created at 0)\n",
      "-------------------------------\n",
      "\n",
      "[3.14] Acct 7: Lead converted via inbound marketing to MQL (WEBSITE_CTA)\n",
      "[3.37] Acct 8: Lead converted via inbound sales to SQL (INDUSTRY_EVENT)\n",
      "[3.49] Acct 6: Lead converted via inbound marketing to MQL (WEBSITE_CTA)\n",
      "[3.85] Acct 6: Lead converted via inbound marketing to MQL (WEBSITE_CTA)\n",
      "[3.98] Acct 9: Lead converted via inbound marketing to MQL (WEBSITE_CTA)\n",
      "[4.37] Acct 10: Lead converted via outbound marketing to MQL (EMAIL_CAMPAIGN)\n",
      "[4.46] Acct 10: Lead converted via outbound marketing to MQL (EMAIL_CAMPAIGN)\n",
      "[4.76] Acct 7: Lead converted via outbound sales to MQL (SALES_REP)\n",
      "\n",
      "--- Report at time 5 ---\n",
      "Acct 6: MQL (created at 0)\n",
      "Acct 7: SQL (created at 0)\n",
      "Acct 8: SQL (created at 0)\n",
      "Acct 9: MQL (created at 0)\n",
      "Acct 10: MQL (created at 0)\n",
      "-------------------------------\n",
      "\n",
      "\n",
      "--- Report at time 7 ---\n",
      "Acct 6: MQL (created at 0)\n",
      "Acct 7: SQL (created at 0)\n",
      "Acct 8: SQL (created at 0)\n",
      "Acct 9: MQL (created at 0)\n",
      "Acct 10: MQL (created at 0)\n",
      "-------------------------------\n",
      "\n",
      "\n",
      "--- Report at time 9 ---\n",
      "Acct 6: MQL (created at 0)\n",
      "Acct 7: SQL (created at 0)\n",
      "Acct 8: SQL (created at 0)\n",
      "Acct 9: MQL (created at 0)\n",
      "Acct 10: MQL (created at 0)\n",
      "-------------------------------\n",
      "\n",
      "\n",
      "--- Report at time 11 ---\n",
      "Acct 6: MQL (created at 0)\n",
      "Acct 7: SQL (created at 0)\n",
      "Acct 8: SQL (created at 0)\n",
      "Acct 9: MQL (created at 0)\n",
      "Acct 10: MQL (created at 0)\n",
      "-------------------------------\n",
      "\n",
      "\n",
      "--- Report at time 13 ---\n",
      "Acct 6: MQL (created at 0)\n",
      "Acct 7: SQL (created at 0)\n",
      "Acct 8: SQL (created at 0)\n",
      "Acct 9: MQL (created at 0)\n",
      "Acct 10: MQL (created at 0)\n",
      "-------------------------------\n",
      "\n",
      "\n",
      "--- Report at time 15 ---\n",
      "Acct 6: MQL (created at 0)\n",
      "Acct 7: SQL (created at 0)\n",
      "Acct 8: SQL (created at 0)\n",
      "Acct 9: MQL (created at 0)\n",
      "Acct 10: MQL (created at 0)\n",
      "-------------------------------\n",
      "\n",
      "\n",
      "--- Report at time 17 ---\n",
      "Acct 6: MQL (created at 0)\n",
      "Acct 7: SQL (created at 0)\n",
      "Acct 8: SQL (created at 0)\n",
      "Acct 9: MQL (created at 0)\n",
      "Acct 10: MQL (created at 0)\n",
      "-------------------------------\n",
      "\n",
      "\n",
      "--- Report at time 19 ---\n",
      "Acct 6: MQL (created at 0)\n",
      "Acct 7: SQL (created at 0)\n",
      "Acct 8: SQL (created at 0)\n",
      "Acct 9: MQL (created at 0)\n",
      "Acct 10: MQL (created at 0)\n",
      "-------------------------------\n",
      "\n",
      "\n",
      "--- Report at time 21 ---\n",
      "Acct 6: MQL (created at 0)\n",
      "Acct 7: SQL (created at 0)\n",
      "Acct 8: SQL (created at 0)\n",
      "Acct 9: MQL (created at 0)\n",
      "Acct 10: MQL (created at 0)\n",
      "-------------------------------\n",
      "\n",
      "\n",
      "--- Report at time 23 ---\n",
      "Acct 6: MQL (created at 0)\n",
      "Acct 7: SQL (created at 0)\n",
      "Acct 8: SQL (created at 0)\n",
      "Acct 9: MQL (created at 0)\n",
      "Acct 10: MQL (created at 0)\n",
      "-------------------------------\n",
      "\n",
      "\n",
      "--- Report at time 25 ---\n",
      "Acct 6: MQL (created at 0)\n",
      "Acct 7: SQL (created at 0)\n",
      "Acct 8: SQL (created at 0)\n",
      "Acct 9: MQL (created at 0)\n",
      "Acct 10: MQL (created at 0)\n",
      "-------------------------------\n",
      "\n",
      "\n",
      "--- Report at time 27 ---\n",
      "Acct 6: MQL (created at 0)\n",
      "Acct 7: SQL (created at 0)\n",
      "Acct 8: SQL (created at 0)\n",
      "Acct 9: MQL (created at 0)\n",
      "Acct 10: MQL (created at 0)\n",
      "-------------------------------\n",
      "\n",
      "\n",
      "--- Report at time 29 ---\n",
      "Acct 6: MQL (created at 0)\n",
      "Acct 7: SQL (created at 0)\n",
      "Acct 8: SQL (created at 0)\n",
      "Acct 9: MQL (created at 0)\n",
      "Acct 10: MQL (created at 0)\n",
      "-------------------------------\n",
      "\n",
      "\n",
      "--- Report at time 31 ---\n",
      "Acct 6: MQL (created at 0)\n",
      "Acct 7: SQL (created at 0)\n",
      "Acct 8: SQL (created at 0)\n",
      "Acct 9: MQL (created at 0)\n",
      "Acct 10: MQL (created at 0)\n",
      "-------------------------------\n",
      "\n",
      "\n",
      "--- Report at time 33 ---\n",
      "Acct 6: MQL (created at 0)\n",
      "Acct 7: SQL (created at 0)\n",
      "Acct 8: SQL (created at 0)\n",
      "Acct 9: MQL (created at 0)\n",
      "Acct 10: MQL (created at 0)\n",
      "-------------------------------\n",
      "\n",
      "\n",
      "--- Report at time 35 ---\n",
      "Acct 6: MQL (created at 0)\n",
      "Acct 7: SQL (created at 0)\n",
      "Acct 8: SQL (created at 0)\n",
      "Acct 9: MQL (created at 0)\n",
      "Acct 10: MQL (created at 0)\n",
      "-------------------------------\n",
      "\n",
      "\n",
      "--- Report at time 37 ---\n",
      "Acct 6: MQL (created at 0)\n",
      "Acct 7: SQL (created at 0)\n",
      "Acct 8: SQL (created at 0)\n",
      "Acct 9: MQL (created at 0)\n",
      "Acct 10: MQL (created at 0)\n",
      "-------------------------------\n",
      "\n",
      "\n",
      "--- Report at time 39 ---\n",
      "Acct 6: MQL (created at 0)\n",
      "Acct 7: SQL (created at 0)\n",
      "Acct 8: SQL (created at 0)\n",
      "Acct 9: MQL (created at 0)\n",
      "Acct 10: MQL (created at 0)\n",
      "-------------------------------\n",
      "\n",
      "\n",
      "--- Report at time 41 ---\n",
      "Acct 6: MQL (created at 0)\n",
      "Acct 7: SQL (created at 0)\n",
      "Acct 8: SQL (created at 0)\n",
      "Acct 9: MQL (created at 0)\n",
      "Acct 10: MQL (created at 0)\n",
      "-------------------------------\n",
      "\n",
      "\n",
      "--- Report at time 43 ---\n",
      "Acct 6: MQL (created at 0)\n",
      "Acct 7: SQL (created at 0)\n",
      "Acct 8: SQL (created at 0)\n",
      "Acct 9: MQL (created at 0)\n",
      "Acct 10: MQL (created at 0)\n",
      "-------------------------------\n",
      "\n",
      "\n",
      "--- Report at time 45 ---\n",
      "Acct 6: MQL (created at 0)\n",
      "Acct 7: SQL (created at 0)\n",
      "Acct 8: SQL (created at 0)\n",
      "Acct 9: MQL (created at 0)\n",
      "Acct 10: MQL (created at 0)\n",
      "-------------------------------\n",
      "\n",
      "\n",
      "--- Report at time 47 ---\n",
      "Acct 6: MQL (created at 0)\n",
      "Acct 7: SQL (created at 0)\n",
      "Acct 8: SQL (created at 0)\n",
      "Acct 9: MQL (created at 0)\n",
      "Acct 10: MQL (created at 0)\n",
      "-------------------------------\n",
      "\n",
      "\n",
      "--- Report at time 49 ---\n",
      "Acct 6: MQL (created at 0)\n",
      "Acct 7: SQL (created at 0)\n",
      "Acct 8: SQL (created at 0)\n",
      "Acct 9: MQL (created at 0)\n",
      "Acct 10: MQL (created at 0)\n",
      "-------------------------------\n",
      "\n"
     ]
    }
   ],
   "source": [
    "random.seed(1988)\n",
    "env = simpy.Environment()\n",
    "env.accounts = []\n",
    "Account.cnt = 0\n",
    "initial_accounts = 5\n",
    "arrival_rate = 0.001  # on average, one new account every 2 units of time\n",
    "env.process(account_arrival(env, initial_accounts, arrival_rate))\n",
    "env.process(periodic_reporter(env, 2))\n",
    "env.run(until=50)"
   ]
  },
  {
   "cell_type": "code",
   "execution_count": 25,
   "id": "46fdf483",
   "metadata": {},
   "outputs": [
    {
     "data": {
      "text/plain": [
       "['Acct 6', 'Acct 7', 'Acct 8', 'Acct 9', 'Acct 10']"
      ]
     },
     "execution_count": 25,
     "metadata": {},
     "output_type": "execute_result"
    }
   ],
   "source": [
    "[a.name for a in env.accounts]"
   ]
  },
  {
   "cell_type": "code",
   "execution_count": 26,
   "id": "2399aca7",
   "metadata": {},
   "outputs": [
    {
     "data": {
      "text/plain": [
       "[<agents.Account at 0x7f5fdd4c8b20>,\n",
       " <agents.Account at 0x7f5fdd4c8f40>,\n",
       " <agents.Account at 0x7f5fdd4c91b0>,\n",
       " <agents.Account at 0x7f5fdd4c9480>,\n",
       " <agents.Account at 0x7f5fdd4c9630>]"
      ]
     },
     "execution_count": 26,
     "metadata": {},
     "output_type": "execute_result"
    }
   ],
   "source": [
    "accounts_created_before(env=env, t=18)"
   ]
  },
  {
   "cell_type": "code",
   "execution_count": null,
   "id": "6de5af92",
   "metadata": {},
   "outputs": [],
   "source": []
  },
  {
   "cell_type": "code",
   "execution_count": null,
   "id": "83bcacc0",
   "metadata": {},
   "outputs": [],
   "source": []
  },
  {
   "cell_type": "code",
   "execution_count": null,
   "id": "da98be8e",
   "metadata": {},
   "outputs": [],
   "source": []
  },
  {
   "cell_type": "code",
   "execution_count": null,
   "id": "124c29e4",
   "metadata": {},
   "outputs": [],
   "source": []
  },
  {
   "cell_type": "code",
   "execution_count": null,
   "id": "82d9da0a",
   "metadata": {},
   "outputs": [],
   "source": []
  },
  {
   "cell_type": "code",
   "execution_count": null,
   "id": "eb48d108",
   "metadata": {},
   "outputs": [],
   "source": []
  },
  {
   "cell_type": "code",
   "execution_count": null,
   "id": "3e8c675b",
   "metadata": {},
   "outputs": [],
   "source": []
  },
  {
   "cell_type": "markdown",
   "id": "9e3fa0b8",
   "metadata": {},
   "source": [
    "# Sandbox"
   ]
  },
  {
   "cell_type": "markdown",
   "id": "af68943b",
   "metadata": {},
   "source": [
    "## Concept of inbox (store)"
   ]
  },
  {
   "cell_type": "code",
   "execution_count": 27,
   "id": "b2a872ba",
   "metadata": {},
   "outputs": [],
   "source": [
    "class Account:\n",
    "    def __init__(self, env, name):\n",
    "        self.env = env\n",
    "        self.name = name\n",
    "        self.inbox = simpy.Store(env)\n",
    "        self.env.accounts.append(self)\n",
    "\n",
    "    def run(self):\n",
    "        while True:\n",
    "            print(f\"{self.env.now}: {self.name} waiting for messages...\")\n",
    "            msg = yield self.inbox.get()\n",
    "            print(f\"{self.env.now}: {self.name} received {msg}\")\n",
    "\n",
    "def mktg_agent(env, account_store, delay=5):\n",
    "    yield env.timeout(delay)\n",
    "    yield account_store.put(\"marketing outreach\")\n",
    "    print(f\"{env.now}: Agent sent event to account\")\n"
   ]
  },
  {
   "cell_type": "code",
   "execution_count": 28,
   "id": "ed332f11",
   "metadata": {},
   "outputs": [],
   "source": [
    "def report(env):\n",
    "    print(f\"\\n--- Report at time {env.now} ---\")\n",
    "    for account in env.accounts:\n",
    "        print(f\"{account.name}: {account.inbox.items}\")\n",
    "    print(\"-------------------------------\\n\")\n",
    "\n",
    "# ... Account class and other functions ...\n",
    "\n",
    "def periodic_reporter(env, interval):\n",
    "    # First report at time 1\n",
    "    yield env.timeout(1)\n",
    "    report(env)\n",
    "    while True:\n",
    "        yield env.timeout(interval)\n",
    "        report(env)"
   ]
  },
  {
   "cell_type": "code",
   "execution_count": 29,
   "id": "2f9a6b77",
   "metadata": {},
   "outputs": [
    {
     "data": {
      "text/plain": [
       "<Process(mktg_agent) object at 0x7f5fdd4c9f00>"
      ]
     },
     "execution_count": 29,
     "metadata": {},
     "output_type": "execute_result"
    }
   ],
   "source": [
    "env = simpy.Environment()\n",
    "env.accounts = []  # type: ignore\n",
    "\n",
    "\n",
    "account1 = Account(env, \"A1\")\n",
    "account2 = Account(env, \"A2\")\n",
    "\n",
    "env.process(account1.run())\n",
    "env.process(account2.run())\n",
    "\n",
    "env.process(mktg_agent(env, account1.inbox, 3))\n",
    "env.process(mktg_agent(env, account2.inbox))\n",
    "# env.process(periodic_reporter(env, 1))\n",
    "# env.run(until=10)"
   ]
  },
  {
   "cell_type": "code",
   "execution_count": 30,
   "id": "000e4d1d",
   "metadata": {},
   "outputs": [
    {
     "name": "stdout",
     "output_type": "stream",
     "text": [
      "0\n",
      "0: A1 waiting for messages...\n",
      "0: A2 waiting for messages...\n"
     ]
    }
   ],
   "source": [
    "print(env.peek())\n",
    "env.run(env.peek()+1)"
   ]
  },
  {
   "cell_type": "code",
   "execution_count": 31,
   "id": "3c289d0c",
   "metadata": {},
   "outputs": [
    {
     "name": "stdout",
     "output_type": "stream",
     "text": [
      "3\n",
      "3: Agent sent event to account\n",
      "3: A1 received marketing outreach\n",
      "3: A1 waiting for messages...\n"
     ]
    }
   ],
   "source": [
    "print(env.peek())\n",
    "env.run(env.peek()+1)"
   ]
  },
  {
   "cell_type": "code",
   "execution_count": 32,
   "id": "269e93d1",
   "metadata": {},
   "outputs": [
    {
     "name": "stdout",
     "output_type": "stream",
     "text": [
      "5\n",
      "5: Agent sent event to account\n",
      "5: A2 received marketing outreach\n",
      "5: A2 waiting for messages...\n"
     ]
    }
   ],
   "source": [
    "print(env.peek())\n",
    "env.run(env.peek()+1)"
   ]
  },
  {
   "cell_type": "code",
   "execution_count": 33,
   "id": "5bd8155a",
   "metadata": {},
   "outputs": [
    {
     "name": "stdout",
     "output_type": "stream",
     "text": [
      "inf\n"
     ]
    }
   ],
   "source": [
    "print(env.peek())\n",
    "env.run(env.peek()+1)"
   ]
  },
  {
   "cell_type": "code",
   "execution_count": null,
   "id": "4877fddd",
   "metadata": {},
   "outputs": [],
   "source": []
  },
  {
   "cell_type": "code",
   "execution_count": null,
   "id": "bfa2bb88",
   "metadata": {},
   "outputs": [],
   "source": []
  },
  {
   "cell_type": "code",
   "execution_count": null,
   "id": "d77a7877",
   "metadata": {},
   "outputs": [],
   "source": []
  },
  {
   "cell_type": "code",
   "execution_count": null,
   "id": "0326a3ca",
   "metadata": {},
   "outputs": [],
   "source": []
  }
 ],
 "metadata": {
  "kernelspec": {
   "display_name": "crmsim",
   "language": "python",
   "name": "python3"
  },
  "language_info": {
   "codemirror_mode": {
    "name": "ipython",
    "version": 3
   },
   "file_extension": ".py",
   "mimetype": "text/x-python",
   "name": "python",
   "nbconvert_exporter": "python",
   "pygments_lexer": "ipython3",
   "version": "3.10.6"
  }
 },
 "nbformat": 4,
 "nbformat_minor": 5
}
